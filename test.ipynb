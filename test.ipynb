{
 "cells": [
  {
   "cell_type": "code",
   "execution_count": 13,
   "metadata": {},
   "outputs": [],
   "source": [
    "\n",
    "import time\n",
    "from naver_utils import scroll_to_bottom, set_search_sorting\n",
    "from program_actions import initialize_driver\n"
   ]
  },
  {
   "cell_type": "code",
   "execution_count": 14,
   "metadata": {},
   "outputs": [],
   "source": [
    "driver = initialize_driver()\n",
    "driver.get('https://m.blog.naver.com/FeedList.naver')\n"
   ]
  },
  {
   "cell_type": "code",
   "execution_count": 15,
   "metadata": {},
   "outputs": [],
   "source": [
    "link_selector = \"div[class^='item__'] a\""
   ]
  },
  {
   "cell_type": "code",
   "execution_count": 16,
   "metadata": {},
   "outputs": [
    {
     "name": "stdout",
     "output_type": "stream",
     "text": [
      "\n",
      "키워드 검색 결과에서 찾은 글이 지정하신 최대 글 수 2개에 도달했습니다.\n",
      "['https://m.blog.naver.com/redbrickcottages/223364765185?referrerCode=1', 'https://m.blog.naver.com/zzangha_11/223364685844?referrerCode=1']\n"
     ]
    }
   ],
   "source": [
    "link_list = scroll_to_bottom(driver, link_selector, 2, '키워드 검색 결과')\n",
    "print(link_list)"
   ]
  }
 ],
 "metadata": {
  "kernelspec": {
   "display_name": "venv",
   "language": "python",
   "name": "python3"
  },
  "language_info": {
   "codemirror_mode": {
    "name": "ipython",
    "version": 3
   },
   "file_extension": ".py",
   "mimetype": "text/x-python",
   "name": "python",
   "nbconvert_exporter": "python",
   "pygments_lexer": "ipython3",
   "version": "3.12.0"
  }
 },
 "nbformat": 4,
 "nbformat_minor": 2
}
